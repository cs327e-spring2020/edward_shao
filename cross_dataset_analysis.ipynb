{
 "cells": [
  {
   "cell_type": "markdown",
   "metadata": {},
   "source": [
    "### Analysis"
   ]
  },
  {
   "cell_type": "markdown",
   "metadata": {},
   "source": [
    "This query joins ConfirmedGlobal_SQL_Final from CovidGlobal_modeled to 3_28_SQL_Final from CovidItaly_modeled on mathcing uid. We used two different aggregat functions. We used where clause to show only regions names Lombardia"
   ]
  },
  {
   "cell_type": "code",
   "execution_count": 7,
   "metadata": {},
   "outputs": [
    {
     "data": {
      "text/html": [
       "<div>\n",
       "<style scoped>\n",
       "    .dataframe tbody tr th:only-of-type {\n",
       "        vertical-align: middle;\n",
       "    }\n",
       "\n",
       "    .dataframe tbody tr th {\n",
       "        vertical-align: top;\n",
       "    }\n",
       "\n",
       "    .dataframe thead th {\n",
       "        text-align: right;\n",
       "    }\n",
       "</style>\n",
       "<table border=\"1\" class=\"dataframe\">\n",
       "  <thead>\n",
       "    <tr style=\"text-align: right;\">\n",
       "      <th></th>\n",
       "      <th>region</th>\n",
       "      <th>Lombardia_cases</th>\n",
       "      <th>Global_AVG</th>\n",
       "    </tr>\n",
       "  </thead>\n",
       "  <tbody>\n",
       "    <tr>\n",
       "      <th>0</th>\n",
       "      <td>Lombardia</td>\n",
       "      <td>32346</td>\n",
       "      <td>92472.0</td>\n",
       "    </tr>\n",
       "  </tbody>\n",
       "</table>\n",
       "</div>"
      ],
      "text/plain": [
       "      region  Lombardia_cases  Global_AVG\n",
       "0  Lombardia            32346     92472.0"
      ]
     },
     "execution_count": 7,
     "metadata": {},
     "output_type": "execute_result"
    }
   ],
   "source": [
    "%%bigquery\n",
    "select I.region, sum(I.cases) as Lombardia_cases, avg(G._3_28_20) as Global_AVG\n",
    "from CovidGlobal_modeled.ConfirmedGlobal_SQL_Final G join CovidItaly_modeled.3_28_SQL_Final I on I.uid = G.uid\n",
    "where I.region = \"Lombardia\"\n",
    "group by I.region"
   ]
  },
  {
   "cell_type": "markdown",
   "metadata": {},
   "source": [
    "This query joins DeathGlobal_SQL_Final from CovidGlobal_modeled to all tables CovidItaly_modeled on mathcing uid. We used two different aggregat functions. We used where clause to show only regions names Lombardia and group by it."
   ]
  },
  {
   "cell_type": "code",
   "execution_count": 5,
   "metadata": {},
   "outputs": [
    {
     "data": {
      "text/html": [
       "<div>\n",
       "<style scoped>\n",
       "    .dataframe tbody tr th:only-of-type {\n",
       "        vertical-align: middle;\n",
       "    }\n",
       "\n",
       "    .dataframe tbody tr th {\n",
       "        vertical-align: top;\n",
       "    }\n",
       "\n",
       "    .dataframe thead th {\n",
       "        text-align: right;\n",
       "    }\n",
       "</style>\n",
       "<table border=\"1\" class=\"dataframe\">\n",
       "  <thead>\n",
       "    <tr style=\"text-align: right;\">\n",
       "      <th></th>\n",
       "      <th>region</th>\n",
       "      <th>Lombardia_avg_cases</th>\n",
       "      <th>Global_death_peak</th>\n",
       "    </tr>\n",
       "  </thead>\n",
       "  <tbody>\n",
       "    <tr>\n",
       "      <th>0</th>\n",
       "      <td>Lombardia</td>\n",
       "      <td>12890.923077</td>\n",
       "      <td>41695</td>\n",
       "    </tr>\n",
       "  </tbody>\n",
       "</table>\n",
       "</div>"
      ],
      "text/plain": [
       "      region  Lombardia_avg_cases  Global_death_peak\n",
       "0  Lombardia         12890.923077              41695"
      ]
     },
     "execution_count": 5,
     "metadata": {},
     "output_type": "execute_result"
    }
   ],
   "source": [
    "%%bigquery\n",
    "select A.region, avg(A.cases + B.cases+ C.cases + D.cases + E.cases) as Lombardia_avg_cases, max(G._3_28_20 + G._3_27_20 + G._3_26_20 + G._3_25_20 + G._3_24_20) as Global_death_peak\n",
    "from CovidItaly_modeled.3_24_SQL_Final A join CovidItaly_modeled.3_25_SQL_Final B on A.region = B.region join CovidItaly_modeled.3_26_SQL_Final C on A.region = C.region join CovidItaly_modeled.3_27_SQL_Final D on A.region = D.region join CovidItaly_modeled.3_28_SQL_Final E on A.region = E.region join CovidGlobal_modeled.DeathGlobal_SQL_Final G on A.uid = G.uid\n",
    "where A.region = \"Lombardia\"\n",
    "group by A.region"
   ]
  },
  {
   "cell_type": "markdown",
   "metadata": {},
   "source": [
    "### Creating Views"
   ]
  },
  {
   "cell_type": "markdown",
   "metadata": {},
   "source": [
    "Creating view for 1st query"
   ]
  },
  {
   "cell_type": "code",
   "execution_count": 8,
   "metadata": {},
   "outputs": [
    {
     "data": {
      "text/html": [
       "<div>\n",
       "<style scoped>\n",
       "    .dataframe tbody tr th:only-of-type {\n",
       "        vertical-align: middle;\n",
       "    }\n",
       "\n",
       "    .dataframe tbody tr th {\n",
       "        vertical-align: top;\n",
       "    }\n",
       "\n",
       "    .dataframe thead th {\n",
       "        text-align: right;\n",
       "    }\n",
       "</style>\n",
       "<table border=\"1\" class=\"dataframe\">\n",
       "  <thead>\n",
       "    <tr style=\"text-align: right;\">\n",
       "      <th></th>\n",
       "    </tr>\n",
       "  </thead>\n",
       "  <tbody>\n",
       "  </tbody>\n",
       "</table>\n",
       "</div>"
      ],
      "text/plain": [
       "Empty DataFrame\n",
       "Columns: []\n",
       "Index: []"
      ]
     },
     "execution_count": 8,
     "metadata": {},
     "output_type": "execute_result"
    }
   ],
   "source": [
    "%%bigquery\n",
    "create or replace view reporting.v_Lombardia_Global_comparison as\n",
    "select I.region, sum(I.cases) as Lombardia_cases, avg(G._3_28_20) as Global_AVG\n",
    "from fluid-etching-266722.CovidGlobal_modeled.ConfirmedGlobal_SQL_Final G join fluid-etching-266722.CovidItaly_modeled.3_28_SQL_Final I on I.uid = G.uid\n",
    "where I.region = \"Lombardia\"\n",
    "group by I.region"
   ]
  },
  {
   "cell_type": "markdown",
   "metadata": {},
   "source": [
    "creating view for 2nd query"
   ]
  },
  {
   "cell_type": "code",
   "execution_count": 6,
   "metadata": {},
   "outputs": [
    {
     "data": {
      "text/html": [
       "<div>\n",
       "<style scoped>\n",
       "    .dataframe tbody tr th:only-of-type {\n",
       "        vertical-align: middle;\n",
       "    }\n",
       "\n",
       "    .dataframe tbody tr th {\n",
       "        vertical-align: top;\n",
       "    }\n",
       "\n",
       "    .dataframe thead th {\n",
       "        text-align: right;\n",
       "    }\n",
       "</style>\n",
       "<table border=\"1\" class=\"dataframe\">\n",
       "  <thead>\n",
       "    <tr style=\"text-align: right;\">\n",
       "      <th></th>\n",
       "    </tr>\n",
       "  </thead>\n",
       "  <tbody>\n",
       "  </tbody>\n",
       "</table>\n",
       "</div>"
      ],
      "text/plain": [
       "Empty DataFrame\n",
       "Columns: []\n",
       "Index: []"
      ]
     },
     "execution_count": 6,
     "metadata": {},
     "output_type": "execute_result"
    }
   ],
   "source": [
    "%%bigquery\n",
    "create or replace view reporting.v_Lombardia_confirmed_VS_Global_death as\n",
    "select A.region, avg(A.cases + B.cases+ C.cases + D.cases + E.cases) as Lombardia_avg_cases, max(G._3_28_20 + G._3_27_20 + G._3_26_20 + G._3_25_20 + G._3_24_20) as Global_death_total\n",
    "from fluid-etching-266722.CovidItaly_modeled.3_24_SQL_Final A join fluid-etching-266722.CovidItaly_modeled.3_25_SQL_Final B on A.region = B.region join fluid-etching-266722.CovidItaly_modeled.3_26_SQL_Final C on A.region = C.region join fluid-etching-266722.CovidItaly_modeled.3_27_SQL_Final D on A.region = D.region join fluid-etching-266722.CovidItaly_modeled.3_28_SQL_Final E on A.region = E.region join fluid-etching-266722.CovidGlobal_modeled.DeathGlobal_SQL_Final G on A.uid = G.uid\n",
    "where A.region = \"Lombardia\"\n",
    "group by A.region"
   ]
  },
  {
   "cell_type": "code",
   "execution_count": null,
   "metadata": {},
   "outputs": [],
   "source": []
  }
 ],
 "metadata": {
  "environment": {
   "name": "common-cpu.m47",
   "type": "gcloud",
   "uri": "gcr.io/deeplearning-platform-release/base-cpu:m47"
  },
  "kernelspec": {
   "display_name": "Python 3",
   "language": "python",
   "name": "python3"
  },
  "language_info": {
   "codemirror_mode": {
    "name": "ipython",
    "version": 3
   },
   "file_extension": ".py",
   "mimetype": "text/x-python",
   "name": "python",
   "nbconvert_exporter": "python",
   "pygments_lexer": "ipython3",
   "version": "3.7.6"
  }
 },
 "nbformat": 4,
 "nbformat_minor": 4
}
