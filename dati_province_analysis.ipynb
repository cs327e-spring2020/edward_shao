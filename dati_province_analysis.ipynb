{
 "cells": [
  {
   "cell_type": "markdown",
   "metadata": {},
   "source": [
    "### Analysis"
   ]
  },
  {
   "cell_type": "markdown",
   "metadata": {},
   "source": [
    "This query finds highest number of confirmed cases for each region. We used roughly 4 joins, and an aggregate function of sum to achieve this desired result."
   ]
  },
  {
   "cell_type": "code",
   "execution_count": 2,
   "metadata": {},
   "outputs": [
    {
     "data": {
      "text/html": [
       "<div>\n",
       "<style scoped>\n",
       "    .dataframe tbody tr th:only-of-type {\n",
       "        vertical-align: middle;\n",
       "    }\n",
       "\n",
       "    .dataframe tbody tr th {\n",
       "        vertical-align: top;\n",
       "    }\n",
       "\n",
       "    .dataframe thead th {\n",
       "        text-align: right;\n",
       "    }\n",
       "</style>\n",
       "<table border=\"1\" class=\"dataframe\">\n",
       "  <thead>\n",
       "    <tr style=\"text-align: right;\">\n",
       "      <th></th>\n",
       "      <th>region</th>\n",
       "      <th>avg_cases</th>\n",
       "    </tr>\n",
       "  </thead>\n",
       "  <tbody>\n",
       "    <tr>\n",
       "      <th>0</th>\n",
       "      <td>Lombardia</td>\n",
       "      <td>12890.923077</td>\n",
       "    </tr>\n",
       "    <tr>\n",
       "      <th>1</th>\n",
       "      <td>Emilia-Romagna</td>\n",
       "      <td>5176.600000</td>\n",
       "    </tr>\n",
       "    <tr>\n",
       "      <th>2</th>\n",
       "      <td>Veneto</td>\n",
       "      <td>4158.000000</td>\n",
       "    </tr>\n",
       "    <tr>\n",
       "      <th>3</th>\n",
       "      <td>Piemonte</td>\n",
       "      <td>3465.444444</td>\n",
       "    </tr>\n",
       "    <tr>\n",
       "      <th>4</th>\n",
       "      <td>P.A. Trento</td>\n",
       "      <td>3121.000000</td>\n",
       "    </tr>\n",
       "    <tr>\n",
       "      <th>5</th>\n",
       "      <td>Marche</td>\n",
       "      <td>2485.666667</td>\n",
       "    </tr>\n",
       "    <tr>\n",
       "      <th>6</th>\n",
       "      <td>Liguria</td>\n",
       "      <td>2397.800000</td>\n",
       "    </tr>\n",
       "    <tr>\n",
       "      <th>7</th>\n",
       "      <td>P.A. Bolzano</td>\n",
       "      <td>2203.000000</td>\n",
       "    </tr>\n",
       "    <tr>\n",
       "      <th>8</th>\n",
       "      <td>Lazio</td>\n",
       "      <td>1653.500000</td>\n",
       "    </tr>\n",
       "    <tr>\n",
       "      <th>9</th>\n",
       "      <td>Toscana</td>\n",
       "      <td>1392.636364</td>\n",
       "    </tr>\n",
       "  </tbody>\n",
       "</table>\n",
       "</div>"
      ],
      "text/plain": [
       "           region     avg_cases\n",
       "0       Lombardia  12890.923077\n",
       "1  Emilia-Romagna   5176.600000\n",
       "2          Veneto   4158.000000\n",
       "3        Piemonte   3465.444444\n",
       "4     P.A. Trento   3121.000000\n",
       "5          Marche   2485.666667\n",
       "6         Liguria   2397.800000\n",
       "7    P.A. Bolzano   2203.000000\n",
       "8           Lazio   1653.500000\n",
       "9         Toscana   1392.636364"
      ]
     },
     "execution_count": 2,
     "metadata": {},
     "output_type": "execute_result"
    }
   ],
   "source": [
    "%%bigquery\n",
    "select A.region, avg(A.cases + B.cases + C.cases + D.cases + E.cases) as avg_cases\n",
    "from CovidItaly_modeled.3_24_SQL_Final A join CovidItaly_modeled.3_25_SQL_Final B on A.region = B.region join CovidItaly_modeled.3_26_SQL_Final C on A.region = C.region join CovidItaly_modeled.3_27_SQL_Final D on A.region = D.region join CovidItaly_modeled.3_28_SQL_Final E on A.region = E.region\n",
    "group by A.region\n",
    "order by avg_cases desc\n",
    "limit 10"
   ]
  },
  {
   "cell_type": "markdown",
   "metadata": {},
   "source": [
    "This query finds highest average number of confirmed cases for each province in region Lombardia. We used roughly 4 joins, and an aggregate function of avg to achieve this desired result."
   ]
  },
  {
   "cell_type": "code",
   "execution_count": 10,
   "metadata": {},
   "outputs": [
    {
     "data": {
      "text/html": [
       "<div>\n",
       "<style scoped>\n",
       "    .dataframe tbody tr th:only-of-type {\n",
       "        vertical-align: middle;\n",
       "    }\n",
       "\n",
       "    .dataframe tbody tr th {\n",
       "        vertical-align: top;\n",
       "    }\n",
       "\n",
       "    .dataframe thead th {\n",
       "        text-align: right;\n",
       "    }\n",
       "</style>\n",
       "<table border=\"1\" class=\"dataframe\">\n",
       "  <thead>\n",
       "    <tr style=\"text-align: right;\">\n",
       "      <th></th>\n",
       "      <th>province</th>\n",
       "      <th>avg_5_days</th>\n",
       "    </tr>\n",
       "  </thead>\n",
       "  <tbody>\n",
       "    <tr>\n",
       "      <th>0</th>\n",
       "      <td>Bergamo</td>\n",
       "      <td>17257.153846</td>\n",
       "    </tr>\n",
       "    <tr>\n",
       "      <th>1</th>\n",
       "      <td>Brescia</td>\n",
       "      <td>16827.153846</td>\n",
       "    </tr>\n",
       "    <tr>\n",
       "      <th>2</th>\n",
       "      <td>Milano</td>\n",
       "      <td>16230.153846</td>\n",
       "    </tr>\n",
       "    <tr>\n",
       "      <th>3</th>\n",
       "      <td>Cremona</td>\n",
       "      <td>13590.153846</td>\n",
       "    </tr>\n",
       "    <tr>\n",
       "      <th>4</th>\n",
       "      <td>Lodi</td>\n",
       "      <td>12389.153846</td>\n",
       "    </tr>\n",
       "    <tr>\n",
       "      <th>5</th>\n",
       "      <td>Pavia</td>\n",
       "      <td>12028.153846</td>\n",
       "    </tr>\n",
       "    <tr>\n",
       "      <th>6</th>\n",
       "      <td>Monza e della Brianza</td>\n",
       "      <td>11983.153846</td>\n",
       "    </tr>\n",
       "    <tr>\n",
       "      <th>7</th>\n",
       "      <td>Mantova</td>\n",
       "      <td>11622.153846</td>\n",
       "    </tr>\n",
       "    <tr>\n",
       "      <th>8</th>\n",
       "      <td>Lecco</td>\n",
       "      <td>11544.153846</td>\n",
       "    </tr>\n",
       "    <tr>\n",
       "      <th>9</th>\n",
       "      <td>In fase di definizione/aggiornamento</td>\n",
       "      <td>11185.153846</td>\n",
       "    </tr>\n",
       "  </tbody>\n",
       "</table>\n",
       "</div>"
      ],
      "text/plain": [
       "                               province    avg_5_days\n",
       "0                               Bergamo  17257.153846\n",
       "1                               Brescia  16827.153846\n",
       "2                                Milano  16230.153846\n",
       "3                               Cremona  13590.153846\n",
       "4                                  Lodi  12389.153846\n",
       "5                                 Pavia  12028.153846\n",
       "6                 Monza e della Brianza  11983.153846\n",
       "7                               Mantova  11622.153846\n",
       "8                                 Lecco  11544.153846\n",
       "9  In fase di definizione/aggiornamento  11185.153846"
      ]
     },
     "execution_count": 10,
     "metadata": {},
     "output_type": "execute_result"
    }
   ],
   "source": [
    "%%bigquery\n",
    "select A.province, avg(A.cases + B.cases+ C.cases+ D.cases+ E.cases) as avg_5_days\n",
    "from CovidItaly_modeled.3_24_SQL_Final A join CovidItaly_modeled.3_25_SQL_Final B on A.region = B.region join CovidItaly_modeled.3_26_SQL_Final C on A.region = C.region join CovidItaly_modeled.3_27_SQL_Final D on A.region = D.region join CovidItaly_modeled.3_28_SQL_Final E on A.region = E.region\n",
    "where A.region = \"Lombardia\"\n",
    "group by A.province\n",
    "order by avg_5_days desc\n",
    "limit 10"
   ]
  },
  {
   "cell_type": "markdown",
   "metadata": {},
   "source": [
    "### Creating Views"
   ]
  },
  {
   "cell_type": "markdown",
   "metadata": {},
   "source": [
    "Creating view for 1st query"
   ]
  },
  {
   "cell_type": "code",
   "execution_count": 3,
   "metadata": {},
   "outputs": [
    {
     "data": {
      "text/html": [
       "<div>\n",
       "<style scoped>\n",
       "    .dataframe tbody tr th:only-of-type {\n",
       "        vertical-align: middle;\n",
       "    }\n",
       "\n",
       "    .dataframe tbody tr th {\n",
       "        vertical-align: top;\n",
       "    }\n",
       "\n",
       "    .dataframe thead th {\n",
       "        text-align: right;\n",
       "    }\n",
       "</style>\n",
       "<table border=\"1\" class=\"dataframe\">\n",
       "  <thead>\n",
       "    <tr style=\"text-align: right;\">\n",
       "      <th></th>\n",
       "    </tr>\n",
       "  </thead>\n",
       "  <tbody>\n",
       "  </tbody>\n",
       "</table>\n",
       "</div>"
      ],
      "text/plain": [
       "Empty DataFrame\n",
       "Columns: []\n",
       "Index: []"
      ]
     },
     "execution_count": 3,
     "metadata": {},
     "output_type": "execute_result"
    }
   ],
   "source": [
    "%%bigquery\n",
    "create or replace view CovidItaly_modeled.v_highest_region_Italy as\n",
    "select A.region, avg(A.cases + B.cases + C.cases + D.cases + E.cases) as avg_cases\n",
    "from fluid-etching-266722.CovidItaly_modeled.3_24_SQL_Final A join fluid-etching-266722.CovidItaly_modeled.3_25_SQL_Final B on A.region = B.region join fluid-etching-266722.CovidItaly_modeled.3_26_SQL_Final C on A.region = C.region join fluid-etching-266722.CovidItaly_modeled.3_27_SQL_Final D on A.region = D.region join fluid-etching-266722.CovidItaly_modeled.3_28_SQL_Final E on A.region = E.region\n",
    "group by A.region\n",
    "order by avg_cases desc\n",
    "limit 10"
   ]
  },
  {
   "cell_type": "code",
   "execution_count": null,
   "metadata": {},
   "outputs": [],
   "source": [
    "Creating view for 2nd query"
   ]
  },
  {
   "cell_type": "code",
   "execution_count": 2,
   "metadata": {},
   "outputs": [
    {
     "data": {
      "text/html": [
       "<div>\n",
       "<style scoped>\n",
       "    .dataframe tbody tr th:only-of-type {\n",
       "        vertical-align: middle;\n",
       "    }\n",
       "\n",
       "    .dataframe tbody tr th {\n",
       "        vertical-align: top;\n",
       "    }\n",
       "\n",
       "    .dataframe thead th {\n",
       "        text-align: right;\n",
       "    }\n",
       "</style>\n",
       "<table border=\"1\" class=\"dataframe\">\n",
       "  <thead>\n",
       "    <tr style=\"text-align: right;\">\n",
       "      <th></th>\n",
       "    </tr>\n",
       "  </thead>\n",
       "  <tbody>\n",
       "  </tbody>\n",
       "</table>\n",
       "</div>"
      ],
      "text/plain": [
       "Empty DataFrame\n",
       "Columns: []\n",
       "Index: []"
      ]
     },
     "execution_count": 2,
     "metadata": {},
     "output_type": "execute_result"
    }
   ],
   "source": [
    "%%bigquery\n",
    "create or replace view CovidItaly_modeled.v_highest_province_Lombardia as\n",
    "select A.province, avg(A.cases + B.cases+ C.cases+ D.cases+ E.cases) as avg_5_days\n",
    "from fluid-etching-266722.CovidItaly_modeled.3_24_SQL_Final A join fluid-etching-266722.CovidItaly_modeled.3_25_SQL_Final B on A.region = B.region join fluid-etching-266722.CovidItaly_modeled.3_26_SQL_Final C on A.region = C.region join fluid-etching-266722.CovidItaly_modeled.3_27_SQL_Final D on A.region = D.region join fluid-etching-266722.CovidItaly_modeled.3_28_SQL_Final E on A.region = E.region\n",
    "where A.region = \"Lombardia\"\n",
    "group by A.province\n",
    "order by avg_5_days desc\n",
    "limit 10"
   ]
  },
  {
   "cell_type": "code",
   "execution_count": null,
   "metadata": {},
   "outputs": [],
   "source": []
  }
 ],
 "metadata": {
  "environment": {
   "name": "common-cpu.m47",
   "type": "gcloud",
   "uri": "gcr.io/deeplearning-platform-release/base-cpu:m47"
  },
  "kernelspec": {
   "display_name": "Python 3",
   "language": "python",
   "name": "python3"
  },
  "language_info": {
   "codemirror_mode": {
    "name": "ipython",
    "version": 3
   },
   "file_extension": ".py",
   "mimetype": "text/x-python",
   "name": "python",
   "nbconvert_exporter": "python",
   "pygments_lexer": "ipython3",
   "version": "3.7.6"
  }
 },
 "nbformat": 4,
 "nbformat_minor": 4
}
