{
 "cells": [
  {
   "cell_type": "markdown",
   "metadata": {},
   "source": [
    "### Analysis"
   ]
  },
  {
   "cell_type": "markdown",
   "metadata": {},
   "source": [
    "This query finds top 10 countries having the highest average number of confirmed cases on March 28, 2020. I used aggergate function and group by country to achieve this desired effect."
   ]
  },
  {
   "cell_type": "code",
   "execution_count": 1,
   "metadata": {},
   "outputs": [
    {
     "data": {
      "text/html": [
       "<div>\n",
       "<style scoped>\n",
       "    .dataframe tbody tr th:only-of-type {\n",
       "        vertical-align: middle;\n",
       "    }\n",
       "\n",
       "    .dataframe tbody tr th {\n",
       "        vertical-align: top;\n",
       "    }\n",
       "\n",
       "    .dataframe thead th {\n",
       "        text-align: right;\n",
       "    }\n",
       "</style>\n",
       "<table border=\"1\" class=\"dataframe\">\n",
       "  <thead>\n",
       "    <tr style=\"text-align: right;\">\n",
       "      <th></th>\n",
       "      <th>country</th>\n",
       "      <th>March_24</th>\n",
       "      <th>March_25</th>\n",
       "      <th>March_26</th>\n",
       "      <th>March_27</th>\n",
       "      <th>March_28</th>\n",
       "    </tr>\n",
       "  </thead>\n",
       "  <tbody>\n",
       "    <tr>\n",
       "      <th>0</th>\n",
       "      <td>US</td>\n",
       "      <td>53736.0</td>\n",
       "      <td>65778.0</td>\n",
       "      <td>83836.0</td>\n",
       "      <td>101657.0</td>\n",
       "      <td>121465.0</td>\n",
       "    </tr>\n",
       "    <tr>\n",
       "      <th>1</th>\n",
       "      <td>Italy</td>\n",
       "      <td>69176.0</td>\n",
       "      <td>74386.0</td>\n",
       "      <td>80589.0</td>\n",
       "      <td>86498.0</td>\n",
       "      <td>92472.0</td>\n",
       "    </tr>\n",
       "    <tr>\n",
       "      <th>2</th>\n",
       "      <td>Spain</td>\n",
       "      <td>39885.0</td>\n",
       "      <td>49515.0</td>\n",
       "      <td>57786.0</td>\n",
       "      <td>65719.0</td>\n",
       "      <td>73235.0</td>\n",
       "    </tr>\n",
       "    <tr>\n",
       "      <th>3</th>\n",
       "      <td>Germany</td>\n",
       "      <td>32986.0</td>\n",
       "      <td>37323.0</td>\n",
       "      <td>43938.0</td>\n",
       "      <td>50871.0</td>\n",
       "      <td>57695.0</td>\n",
       "    </tr>\n",
       "    <tr>\n",
       "      <th>4</th>\n",
       "      <td>Iran</td>\n",
       "      <td>24811.0</td>\n",
       "      <td>27017.0</td>\n",
       "      <td>29406.0</td>\n",
       "      <td>32332.0</td>\n",
       "      <td>35408.0</td>\n",
       "    </tr>\n",
       "    <tr>\n",
       "      <th>5</th>\n",
       "      <td>Switzerland</td>\n",
       "      <td>9877.0</td>\n",
       "      <td>10897.0</td>\n",
       "      <td>11811.0</td>\n",
       "      <td>12928.0</td>\n",
       "      <td>14076.0</td>\n",
       "    </tr>\n",
       "    <tr>\n",
       "      <th>6</th>\n",
       "      <td>\"Korea</td>\n",
       "      <td>8961.0</td>\n",
       "      <td>9037.0</td>\n",
       "      <td>9137.0</td>\n",
       "      <td>9241.0</td>\n",
       "      <td>9332.0</td>\n",
       "    </tr>\n",
       "    <tr>\n",
       "      <th>7</th>\n",
       "      <td>Belgium</td>\n",
       "      <td>4269.0</td>\n",
       "      <td>4937.0</td>\n",
       "      <td>6235.0</td>\n",
       "      <td>7284.0</td>\n",
       "      <td>9134.0</td>\n",
       "    </tr>\n",
       "    <tr>\n",
       "      <th>8</th>\n",
       "      <td>Austria</td>\n",
       "      <td>5283.0</td>\n",
       "      <td>5588.0</td>\n",
       "      <td>6909.0</td>\n",
       "      <td>7657.0</td>\n",
       "      <td>8271.0</td>\n",
       "    </tr>\n",
       "    <tr>\n",
       "      <th>9</th>\n",
       "      <td>Turkey</td>\n",
       "      <td>1872.0</td>\n",
       "      <td>2433.0</td>\n",
       "      <td>3629.0</td>\n",
       "      <td>5698.0</td>\n",
       "      <td>7402.0</td>\n",
       "    </tr>\n",
       "  </tbody>\n",
       "</table>\n",
       "</div>"
      ],
      "text/plain": [
       "       country  March_24  March_25  March_26  March_27  March_28\n",
       "0           US   53736.0   65778.0   83836.0  101657.0  121465.0\n",
       "1        Italy   69176.0   74386.0   80589.0   86498.0   92472.0\n",
       "2        Spain   39885.0   49515.0   57786.0   65719.0   73235.0\n",
       "3      Germany   32986.0   37323.0   43938.0   50871.0   57695.0\n",
       "4         Iran   24811.0   27017.0   29406.0   32332.0   35408.0\n",
       "5  Switzerland    9877.0   10897.0   11811.0   12928.0   14076.0\n",
       "6       \"Korea    8961.0    9037.0    9137.0    9241.0    9332.0\n",
       "7      Belgium    4269.0    4937.0    6235.0    7284.0    9134.0\n",
       "8      Austria    5283.0    5588.0    6909.0    7657.0    8271.0\n",
       "9       Turkey    1872.0    2433.0    3629.0    5698.0    7402.0"
      ]
     },
     "execution_count": 1,
     "metadata": {},
     "output_type": "execute_result"
    }
   ],
   "source": [
    "%%bigquery\n",
    "select country, avg(_3_24_20) as March_24, avg(_3_25_20) as March_25, avg(_3_26_20) as March_26,avg(_3_27_20) as March_27, avg(_3_28_20) as March_28\n",
    "from CovidGlobal_modeled.ConfirmedGlobal_SQL_Final\n",
    "group by country\n",
    "order by avg(_3_28_20) desc\n",
    "limit 10\n"
   ]
  },
  {
   "cell_type": "markdown",
   "metadata": {},
   "source": [
    "This query finds top 10 states having highest confirmed cases. I then compared that number of casess in each states to number of deaths from Covid. I used two aggregate functions of sum and group by states. I then join DeathUSA_SQL_Final and ConfirmedUSA_SQL_Final on mathcing UID. Finally, I use where clause to filter out terrorities such as Puerto Rico."
   ]
  },
  {
   "cell_type": "code",
   "execution_count": 8,
   "metadata": {},
   "outputs": [
    {
     "data": {
      "text/html": [
       "<div>\n",
       "<style scoped>\n",
       "    .dataframe tbody tr th:only-of-type {\n",
       "        vertical-align: middle;\n",
       "    }\n",
       "\n",
       "    .dataframe tbody tr th {\n",
       "        vertical-align: top;\n",
       "    }\n",
       "\n",
       "    .dataframe thead th {\n",
       "        text-align: right;\n",
       "    }\n",
       "</style>\n",
       "<table border=\"1\" class=\"dataframe\">\n",
       "  <thead>\n",
       "    <tr style=\"text-align: right;\">\n",
       "      <th></th>\n",
       "      <th>state</th>\n",
       "      <th>USA_State_Confirmed_cases</th>\n",
       "      <th>USA_State_Deaths</th>\n",
       "    </tr>\n",
       "  </thead>\n",
       "  <tbody>\n",
       "    <tr>\n",
       "      <th>0</th>\n",
       "      <td>New York</td>\n",
       "      <td>131083</td>\n",
       "      <td>2746</td>\n",
       "    </tr>\n",
       "    <tr>\n",
       "      <th>1</th>\n",
       "      <td>New Jersey</td>\n",
       "      <td>19711</td>\n",
       "      <td>234</td>\n",
       "    </tr>\n",
       "    <tr>\n",
       "      <th>2</th>\n",
       "      <td>California</td>\n",
       "      <td>13189</td>\n",
       "      <td>265</td>\n",
       "    </tr>\n",
       "    <tr>\n",
       "      <th>3</th>\n",
       "      <td>Washington</td>\n",
       "      <td>12344</td>\n",
       "      <td>605</td>\n",
       "    </tr>\n",
       "    <tr>\n",
       "      <th>4</th>\n",
       "      <td>Michigan</td>\n",
       "      <td>9298</td>\n",
       "      <td>152</td>\n",
       "    </tr>\n",
       "    <tr>\n",
       "      <th>5</th>\n",
       "      <td>Illinois</td>\n",
       "      <td>8274</td>\n",
       "      <td>82</td>\n",
       "    </tr>\n",
       "    <tr>\n",
       "      <th>6</th>\n",
       "      <td>Florida</td>\n",
       "      <td>7682</td>\n",
       "      <td>101</td>\n",
       "    </tr>\n",
       "    <tr>\n",
       "      <th>7</th>\n",
       "      <td>Louisiana</td>\n",
       "      <td>7496</td>\n",
       "      <td>249</td>\n",
       "    </tr>\n",
       "    <tr>\n",
       "      <th>8</th>\n",
       "      <td>Massachusetts</td>\n",
       "      <td>6831</td>\n",
       "      <td>65</td>\n",
       "    </tr>\n",
       "    <tr>\n",
       "      <th>9</th>\n",
       "      <td>Pennsylvania</td>\n",
       "      <td>5208</td>\n",
       "      <td>51</td>\n",
       "    </tr>\n",
       "  </tbody>\n",
       "</table>\n",
       "</div>"
      ],
      "text/plain": [
       "           state  USA_State_Confirmed_cases  USA_State_Deaths\n",
       "0       New York                     131083              2746\n",
       "1     New Jersey                      19711               234\n",
       "2     California                      13189               265\n",
       "3     Washington                      12344               605\n",
       "4       Michigan                       9298               152\n",
       "5       Illinois                       8274                82\n",
       "6        Florida                       7682               101\n",
       "7      Louisiana                       7496               249\n",
       "8  Massachusetts                       6831                65\n",
       "9   Pennsylvania                       5208                51"
      ]
     },
     "execution_count": 8,
     "metadata": {},
     "output_type": "execute_result"
    }
   ],
   "source": [
    "%%bigquery\n",
    "select C.state, sum(C._3_24_20 + C._3_25_20+ C._3_26_20 + C._3_27_20 + C._3_28_20) as USA_State_Confirmed_cases, sum(D._3_24_20 + D._3_25_20 +  D._3_26_20 + D._3_27_20 + D._3_28_20) as USA_State_Deaths\n",
    "from CovidGlobal_modeled.ConfirmedUSA_SQL_Final C join CovidGlobal_modeled.DeathUSA_SQL_Final D on C.UID = D.UID\n",
    "where C.terrority = \"USA\" and D.terrority = \"USA\"\n",
    "group by C.state\n",
    "order by USA_State_Confirmed_cases desc\n",
    "limit 10"
   ]
  },
  {
   "cell_type": "markdown",
   "metadata": {},
   "source": [
    "This simple query finds the number of recovered cases per 55 states and terrorities to help compared itself to death and confirmed cases in last query."
   ]
  },
  {
   "cell_type": "code",
   "execution_count": 1,
   "metadata": {},
   "outputs": [
    {
     "data": {
      "text/html": [
       "<div>\n",
       "<style scoped>\n",
       "    .dataframe tbody tr th:only-of-type {\n",
       "        vertical-align: middle;\n",
       "    }\n",
       "\n",
       "    .dataframe tbody tr th {\n",
       "        vertical-align: top;\n",
       "    }\n",
       "\n",
       "    .dataframe thead th {\n",
       "        text-align: right;\n",
       "    }\n",
       "</style>\n",
       "<table border=\"1\" class=\"dataframe\">\n",
       "  <thead>\n",
       "    <tr style=\"text-align: right;\">\n",
       "      <th></th>\n",
       "      <th>country</th>\n",
       "      <th>f0_</th>\n",
       "    </tr>\n",
       "  </thead>\n",
       "  <tbody>\n",
       "    <tr>\n",
       "      <th>0</th>\n",
       "      <td>US</td>\n",
       "      <td>60.563636</td>\n",
       "    </tr>\n",
       "  </tbody>\n",
       "</table>\n",
       "</div>"
      ],
      "text/plain": [
       "  country        f0_\n",
       "0      US  60.563636"
      ]
     },
     "execution_count": 1,
     "metadata": {},
     "output_type": "execute_result"
    }
   ],
   "source": [
    "%%bigquery\n",
    "select country, sum((_3_24_20 + _3_25_20 + _3_26_20 + _3_27_20 + _3_28_20)/55)\n",
    "from CovidGlobal_modeled.RecoveredGlobal_SQL_Final\n",
    "where country = \"US\"\n",
    "group by country"
   ]
  },
  {
   "cell_type": "markdown",
   "metadata": {},
   "source": [
    "### Creating Views"
   ]
  },
  {
   "cell_type": "markdown",
   "metadata": {},
   "source": [
    "Creating view for 1st query"
   ]
  },
  {
   "cell_type": "code",
   "execution_count": 1,
   "metadata": {},
   "outputs": [
    {
     "data": {
      "text/html": [
       "<div>\n",
       "<style scoped>\n",
       "    .dataframe tbody tr th:only-of-type {\n",
       "        vertical-align: middle;\n",
       "    }\n",
       "\n",
       "    .dataframe tbody tr th {\n",
       "        vertical-align: top;\n",
       "    }\n",
       "\n",
       "    .dataframe thead th {\n",
       "        text-align: right;\n",
       "    }\n",
       "</style>\n",
       "<table border=\"1\" class=\"dataframe\">\n",
       "  <thead>\n",
       "    <tr style=\"text-align: right;\">\n",
       "      <th></th>\n",
       "    </tr>\n",
       "  </thead>\n",
       "  <tbody>\n",
       "  </tbody>\n",
       "</table>\n",
       "</div>"
      ],
      "text/plain": [
       "Empty DataFrame\n",
       "Columns: []\n",
       "Index: []"
      ]
     },
     "execution_count": 1,
     "metadata": {},
     "output_type": "execute_result"
    }
   ],
   "source": [
    "%%bigquery\n",
    "create or replace view CovidGlobal_modeled.v_top_10_countries as\n",
    "select country, avg(_3_24_20) as March_24, avg(_3_25_20) as March_25, avg(_3_26_20) as March_26,avg(_3_27_20) as March_27, avg(_3_28_20) as March_28\n",
    "from fluid-etching-266722.CovidGlobal_modeled.ConfirmedGlobal_SQL_Final\n",
    "group by country\n",
    "order by avg(_3_28_20) desc\n",
    "limit 10"
   ]
  },
  {
   "cell_type": "markdown",
   "metadata": {},
   "source": [
    "Creatign view for 2nd query"
   ]
  },
  {
   "cell_type": "code",
   "execution_count": 2,
   "metadata": {},
   "outputs": [
    {
     "data": {
      "text/html": [
       "<div>\n",
       "<style scoped>\n",
       "    .dataframe tbody tr th:only-of-type {\n",
       "        vertical-align: middle;\n",
       "    }\n",
       "\n",
       "    .dataframe tbody tr th {\n",
       "        vertical-align: top;\n",
       "    }\n",
       "\n",
       "    .dataframe thead th {\n",
       "        text-align: right;\n",
       "    }\n",
       "</style>\n",
       "<table border=\"1\" class=\"dataframe\">\n",
       "  <thead>\n",
       "    <tr style=\"text-align: right;\">\n",
       "      <th></th>\n",
       "    </tr>\n",
       "  </thead>\n",
       "  <tbody>\n",
       "  </tbody>\n",
       "</table>\n",
       "</div>"
      ],
      "text/plain": [
       "Empty DataFrame\n",
       "Columns: []\n",
       "Index: []"
      ]
     },
     "execution_count": 2,
     "metadata": {},
     "output_type": "execute_result"
    }
   ],
   "source": [
    "%%bigquery\n",
    "create or replace view CovidGlobal_modeled.v_top_10_USA_States as\n",
    "select C.state, sum(C._3_24_20 + C._3_25_20+ C._3_26_20 + C._3_27_20 + C._3_28_20) as USA_State_Confirmed_cases, sum(D._3_24_20 + D._3_25_20 +  D._3_26_20 + D._3_27_20 + D._3_28_20) as USA_State_Deaths\n",
    "from fluid-etching-266722.CovidGlobal_modeled.ConfirmedUSA_SQL_Final C join fluid-etching-266722.CovidGlobal_modeled.DeathUSA_SQL_Final D on C.UID = D.UID\n",
    "where C.terrority = \"USA\" and D.terrority = \"USA\"\n",
    "group by C.state\n",
    "order by USA_State_Confirmed_cases desc\n",
    "limit 10"
   ]
  },
  {
   "cell_type": "code",
   "execution_count": null,
   "metadata": {},
   "outputs": [],
   "source": []
  }
 ],
 "metadata": {
  "environment": {
   "name": "common-cpu.m47",
   "type": "gcloud",
   "uri": "gcr.io/deeplearning-platform-release/base-cpu:m47"
  },
  "kernelspec": {
   "display_name": "Python 3",
   "language": "python",
   "name": "python3"
  },
  "language_info": {
   "codemirror_mode": {
    "name": "ipython",
    "version": 3
   },
   "file_extension": ".py",
   "mimetype": "text/x-python",
   "name": "python",
   "nbconvert_exporter": "python",
   "pygments_lexer": "ipython3",
   "version": "3.7.6"
  }
 },
 "nbformat": 4,
 "nbformat_minor": 4
}
